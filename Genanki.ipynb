{
  "nbformat": 4,
  "nbformat_minor": 0,
  "metadata": {
    "colab": {
      "name": "Genanki.ipynb",
      "provenance": []
    },
    "kernelspec": {
      "name": "python3",
      "display_name": "Python 3"
    },
    "language_info": {
      "name": "python"
    }
  },
  "cells": [
    {
      "cell_type": "code",
      "source": [
        "# Redact later \n",
        "# pixabay API key\n",
        "key = \"\""
      ],
      "metadata": {
        "id": "akH87SgbFb2V"
      },
      "execution_count": 1,
      "outputs": []
    },
    {
      "cell_type": "markdown",
      "source": [
        "# Genanki for tamil\n",
        "\n",
        "This Juputer notebook is a modified version of [jm-moreau](https://github.com/jm-moreau) French Anki card creation notebook. Link to his depository:  (https://github.com/jm-moreau/french-genanki-jupyter)\n",
        "The notebook uses 1000 most common Tamil words web-scraped on a website. Used googletrans python package for translation and IPA, gTTS python package for the creation of pronunciation and finally pixbay for images. The images may not be relavant.\n",
        "\n",
        "## Steps\n",
        "1. Webscrape tamil words (top 500 words, or nouns or any list)\\\n",
        "2. Get english translation along with IPA(pronunciation)\\\n",
        "3. Stroring the data as pandas dataframe\n",
        "4. Get relavant images with Pixabay API. some images might be silly as most of the words are non-specific. For example: as, that, this\n",
        "5. Using gTTS, get pronunciation mp3 files.\n",
        "6. Store the file locations in dataframe columns\n",
        "7. Creating Genanki model -> note -> Deck and finally saving it.\n",
        "\n",
        "## Instructions\n",
        "1. Get Pixabay API key from [Pixabay](https://pixabay.com/api/docs/)\n",
        "2. You may have you tweak the webscraping code if you are using different webistes\n",
        "\n",
        "  "
      ],
      "metadata": {
        "id": "Y1R8WHbGnxqS"
      }
    },
    {
      "cell_type": "code",
      "execution_count": 2,
      "metadata": {
        "id": "adFIsI_wCBZw",
        "colab": {
          "base_uri": "https://localhost:8080/"
        },
        "outputId": "d4c6b319-cefc-4cb1-ac4b-687b6a01163d"
      },
      "outputs": [
        {
          "output_type": "stream",
          "name": "stdout",
          "text": [
            "Packages are installed\n"
          ]
        }
      ],
      "source": [
        "# installing packages \n",
        "! pip install genanki\n",
        "! pip install googletrans==4.0.0-rc1\n",
        "! pip install gTTS\n",
        "! pip install retry\n",
        "\n",
        "\n",
        "from IPython.display import clear_output\n",
        "clear_output()\n",
        "print(\"Packages are installed\")"
      ]
    },
    {
      "cell_type": "code",
      "source": [
        "#importing packages \n",
        "import random\n",
        "from pathlib import Path\n",
        "import yaml\n",
        "import requests\n",
        "from textwrap import dedent\n",
        "import os\n",
        "import pandas as pd\n",
        "from bs4 import BeautifulSoup\n",
        "import genanki\n",
        "from gtts import gTTS\n",
        "print(\"Packages are imported\")"
      ],
      "metadata": {
        "id": "tf_zlJq-Devp",
        "colab": {
          "base_uri": "https://localhost:8080/"
        },
        "outputId": "ec72fffc-a13f-4afc-b52d-aa0e04c2b44b"
      },
      "execution_count": 3,
      "outputs": [
        {
          "output_type": "stream",
          "name": "stdout",
          "text": [
            "Packages are imported\n"
          ]
        }
      ]
    },
    {
      "cell_type": "markdown",
      "source": [
        "Getting tamil words"
      ],
      "metadata": {
        "id": "m6vgSwzZoxiZ"
      }
    },
    {
      "cell_type": "code",
      "source": [
        "# Variables. Please change if neeeded\n",
        "website_url = \"https://1000mostcommonwords.com/1000-most-common-tamil-words/\"\n",
        "order_of_the_table = 0 # if the table of interest is first then put zero or 1 so on"
      ],
      "metadata": {
        "id": "PPTdXCbLPGFT"
      },
      "execution_count": 4,
      "outputs": []
    },
    {
      "cell_type": "code",
      "source": [
        "# Fetching the table to datafram\n",
        "page = requests.get(website_url)\n",
        "soup = BeautifulSoup(page.text, 'html.parser')\n",
        "table = soup.find_all('table')[order_of_the_table]\n",
        "df = pd.read_html(str(table))[0]\n",
        "# Drop first column of dataframe\n",
        "df = df.iloc[: , 1:]\n",
        "# Drop first row\n",
        "df = df.iloc[1:501 , :]\n",
        "# Rename the columns\n",
        "df = df.rename(columns={1: \"Tamil\", 2: \"English\"})\n",
        "df.head()"
      ],
      "metadata": {
        "colab": {
          "base_uri": "https://localhost:8080/",
          "height": 206
        },
        "id": "hNWMtkX8Pv65",
        "outputId": "d8015379-1b9c-49c0-a55c-ded2e01d6b5a"
      },
      "execution_count": 5,
      "outputs": [
        {
          "output_type": "execute_result",
          "data": {
            "text/plain": [
              "   Tamil English\n",
              "1     என      as\n",
              "2   நான்       I\n",
              "3  அவரது     his\n",
              "4  என்று    that\n",
              "5   அவர்      he"
            ],
            "text/html": [
              "\n",
              "  <div id=\"df-f4ecad0e-1568-42d7-9d49-824d86eb8ba2\">\n",
              "    <div class=\"colab-df-container\">\n",
              "      <div>\n",
              "<style scoped>\n",
              "    .dataframe tbody tr th:only-of-type {\n",
              "        vertical-align: middle;\n",
              "    }\n",
              "\n",
              "    .dataframe tbody tr th {\n",
              "        vertical-align: top;\n",
              "    }\n",
              "\n",
              "    .dataframe thead th {\n",
              "        text-align: right;\n",
              "    }\n",
              "</style>\n",
              "<table border=\"1\" class=\"dataframe\">\n",
              "  <thead>\n",
              "    <tr style=\"text-align: right;\">\n",
              "      <th></th>\n",
              "      <th>Tamil</th>\n",
              "      <th>English</th>\n",
              "    </tr>\n",
              "  </thead>\n",
              "  <tbody>\n",
              "    <tr>\n",
              "      <th>1</th>\n",
              "      <td>என</td>\n",
              "      <td>as</td>\n",
              "    </tr>\n",
              "    <tr>\n",
              "      <th>2</th>\n",
              "      <td>நான்</td>\n",
              "      <td>I</td>\n",
              "    </tr>\n",
              "    <tr>\n",
              "      <th>3</th>\n",
              "      <td>அவரது</td>\n",
              "      <td>his</td>\n",
              "    </tr>\n",
              "    <tr>\n",
              "      <th>4</th>\n",
              "      <td>என்று</td>\n",
              "      <td>that</td>\n",
              "    </tr>\n",
              "    <tr>\n",
              "      <th>5</th>\n",
              "      <td>அவர்</td>\n",
              "      <td>he</td>\n",
              "    </tr>\n",
              "  </tbody>\n",
              "</table>\n",
              "</div>\n",
              "      <button class=\"colab-df-convert\" onclick=\"convertToInteractive('df-f4ecad0e-1568-42d7-9d49-824d86eb8ba2')\"\n",
              "              title=\"Convert this dataframe to an interactive table.\"\n",
              "              style=\"display:none;\">\n",
              "        \n",
              "  <svg xmlns=\"http://www.w3.org/2000/svg\" height=\"24px\"viewBox=\"0 0 24 24\"\n",
              "       width=\"24px\">\n",
              "    <path d=\"M0 0h24v24H0V0z\" fill=\"none\"/>\n",
              "    <path d=\"M18.56 5.44l.94 2.06.94-2.06 2.06-.94-2.06-.94-.94-2.06-.94 2.06-2.06.94zm-11 1L8.5 8.5l.94-2.06 2.06-.94-2.06-.94L8.5 2.5l-.94 2.06-2.06.94zm10 10l.94 2.06.94-2.06 2.06-.94-2.06-.94-.94-2.06-.94 2.06-2.06.94z\"/><path d=\"M17.41 7.96l-1.37-1.37c-.4-.4-.92-.59-1.43-.59-.52 0-1.04.2-1.43.59L10.3 9.45l-7.72 7.72c-.78.78-.78 2.05 0 2.83L4 21.41c.39.39.9.59 1.41.59.51 0 1.02-.2 1.41-.59l7.78-7.78 2.81-2.81c.8-.78.8-2.07 0-2.86zM5.41 20L4 18.59l7.72-7.72 1.47 1.35L5.41 20z\"/>\n",
              "  </svg>\n",
              "      </button>\n",
              "      \n",
              "  <style>\n",
              "    .colab-df-container {\n",
              "      display:flex;\n",
              "      flex-wrap:wrap;\n",
              "      gap: 12px;\n",
              "    }\n",
              "\n",
              "    .colab-df-convert {\n",
              "      background-color: #E8F0FE;\n",
              "      border: none;\n",
              "      border-radius: 50%;\n",
              "      cursor: pointer;\n",
              "      display: none;\n",
              "      fill: #1967D2;\n",
              "      height: 32px;\n",
              "      padding: 0 0 0 0;\n",
              "      width: 32px;\n",
              "    }\n",
              "\n",
              "    .colab-df-convert:hover {\n",
              "      background-color: #E2EBFA;\n",
              "      box-shadow: 0px 1px 2px rgba(60, 64, 67, 0.3), 0px 1px 3px 1px rgba(60, 64, 67, 0.15);\n",
              "      fill: #174EA6;\n",
              "    }\n",
              "\n",
              "    [theme=dark] .colab-df-convert {\n",
              "      background-color: #3B4455;\n",
              "      fill: #D2E3FC;\n",
              "    }\n",
              "\n",
              "    [theme=dark] .colab-df-convert:hover {\n",
              "      background-color: #434B5C;\n",
              "      box-shadow: 0px 1px 3px 1px rgba(0, 0, 0, 0.15);\n",
              "      filter: drop-shadow(0px 1px 2px rgba(0, 0, 0, 0.3));\n",
              "      fill: #FFFFFF;\n",
              "    }\n",
              "  </style>\n",
              "\n",
              "      <script>\n",
              "        const buttonEl =\n",
              "          document.querySelector('#df-f4ecad0e-1568-42d7-9d49-824d86eb8ba2 button.colab-df-convert');\n",
              "        buttonEl.style.display =\n",
              "          google.colab.kernel.accessAllowed ? 'block' : 'none';\n",
              "\n",
              "        async function convertToInteractive(key) {\n",
              "          const element = document.querySelector('#df-f4ecad0e-1568-42d7-9d49-824d86eb8ba2');\n",
              "          const dataTable =\n",
              "            await google.colab.kernel.invokeFunction('convertToInteractive',\n",
              "                                                     [key], {});\n",
              "          if (!dataTable) return;\n",
              "\n",
              "          const docLinkHtml = 'Like what you see? Visit the ' +\n",
              "            '<a target=\"_blank\" href=https://colab.research.google.com/notebooks/data_table.ipynb>data table notebook</a>'\n",
              "            + ' to learn more about interactive tables.';\n",
              "          element.innerHTML = '';\n",
              "          dataTable['output_type'] = 'display_data';\n",
              "          await google.colab.output.renderOutput(dataTable, element);\n",
              "          const docLink = document.createElement('div');\n",
              "          docLink.innerHTML = docLinkHtml;\n",
              "          element.appendChild(docLink);\n",
              "        }\n",
              "      </script>\n",
              "    </div>\n",
              "  </div>\n",
              "  "
            ]
          },
          "metadata": {},
          "execution_count": 5
        }
      ]
    },
    {
      "cell_type": "code",
      "source": [
        "# defining functions for translation and IPA\n",
        "from googletrans import Translator\n",
        "from retry import retry\n",
        "\n",
        "translator = Translator()\n",
        "\n",
        "@retry(Exception, delay=5*60, tries=-1)\n",
        "def get_translation(word):\n",
        "  ''' word: String (english)\n",
        "      output: String (tamil tranlation)\n",
        "  '''\n",
        "  translation = translator.translate(word, dest='ta')\n",
        "  return translation.text\n",
        "\n",
        "@retry(Exception, delay=5*60, tries=-1)\n",
        "def get_IPA(word):\n",
        "  ''' word: String (english)\n",
        "      output: String (tamil pranonciation)\n",
        "  '''\n",
        "  translation = translator.translate(word, dest='ta')\n",
        "  return translation.pronunciation"
      ],
      "metadata": {
        "id": "5vXKi6BDRHz9"
      },
      "execution_count": 6,
      "outputs": []
    },
    {
      "cell_type": "code",
      "source": [
        "#Getting IPA\n",
        "from tqdm import tqdm\n",
        "df[\"IPA\"] = \"\"\n",
        "\n",
        "for index, row in tqdm(df.iterrows()):\n",
        "  row['IPA'] = get_IPA(row['Tamil'])"
      ],
      "metadata": {
        "colab": {
          "base_uri": "https://localhost:8080/"
        },
        "id": "Af-bSu5DSb4g",
        "outputId": "94e71f62-51b6-437f-b3d6-e28d8f18e655"
      },
      "execution_count": 7,
      "outputs": [
        {
          "output_type": "stream",
          "name": "stderr",
          "text": [
            "500it [00:20, 24.16it/s]\n"
          ]
        }
      ]
    },
    {
      "cell_type": "code",
      "source": [
        "df.tail()"
      ],
      "metadata": {
        "colab": {
          "base_uri": "https://localhost:8080/",
          "height": 206
        },
        "id": "C3Tht-AkVz84",
        "outputId": "19c365a1-dc9e-4d21-e7ed-a5d69b54acfa"
      },
      "execution_count": 8,
      "outputs": [
        {
          "output_type": "execute_result",
          "data": {
            "text/plain": [
              "         Tamil English       IPA\n",
              "496      ஆட்சி  govern      Āṭci\n",
              "497     இழுக்க    pull    Iḻukka\n",
              "498     குளிர்    cold     Kuḷir\n",
              "499  அறிவிப்பு  notice  Aṟivippu\n",
              "500      குரல்   voice     Kural"
            ],
            "text/html": [
              "\n",
              "  <div id=\"df-58e0c2fd-e4ff-4de4-8374-3df94b09f0e0\">\n",
              "    <div class=\"colab-df-container\">\n",
              "      <div>\n",
              "<style scoped>\n",
              "    .dataframe tbody tr th:only-of-type {\n",
              "        vertical-align: middle;\n",
              "    }\n",
              "\n",
              "    .dataframe tbody tr th {\n",
              "        vertical-align: top;\n",
              "    }\n",
              "\n",
              "    .dataframe thead th {\n",
              "        text-align: right;\n",
              "    }\n",
              "</style>\n",
              "<table border=\"1\" class=\"dataframe\">\n",
              "  <thead>\n",
              "    <tr style=\"text-align: right;\">\n",
              "      <th></th>\n",
              "      <th>Tamil</th>\n",
              "      <th>English</th>\n",
              "      <th>IPA</th>\n",
              "    </tr>\n",
              "  </thead>\n",
              "  <tbody>\n",
              "    <tr>\n",
              "      <th>496</th>\n",
              "      <td>ஆட்சி</td>\n",
              "      <td>govern</td>\n",
              "      <td>Āṭci</td>\n",
              "    </tr>\n",
              "    <tr>\n",
              "      <th>497</th>\n",
              "      <td>இழுக்க</td>\n",
              "      <td>pull</td>\n",
              "      <td>Iḻukka</td>\n",
              "    </tr>\n",
              "    <tr>\n",
              "      <th>498</th>\n",
              "      <td>குளிர்</td>\n",
              "      <td>cold</td>\n",
              "      <td>Kuḷir</td>\n",
              "    </tr>\n",
              "    <tr>\n",
              "      <th>499</th>\n",
              "      <td>அறிவிப்பு</td>\n",
              "      <td>notice</td>\n",
              "      <td>Aṟivippu</td>\n",
              "    </tr>\n",
              "    <tr>\n",
              "      <th>500</th>\n",
              "      <td>குரல்</td>\n",
              "      <td>voice</td>\n",
              "      <td>Kural</td>\n",
              "    </tr>\n",
              "  </tbody>\n",
              "</table>\n",
              "</div>\n",
              "      <button class=\"colab-df-convert\" onclick=\"convertToInteractive('df-58e0c2fd-e4ff-4de4-8374-3df94b09f0e0')\"\n",
              "              title=\"Convert this dataframe to an interactive table.\"\n",
              "              style=\"display:none;\">\n",
              "        \n",
              "  <svg xmlns=\"http://www.w3.org/2000/svg\" height=\"24px\"viewBox=\"0 0 24 24\"\n",
              "       width=\"24px\">\n",
              "    <path d=\"M0 0h24v24H0V0z\" fill=\"none\"/>\n",
              "    <path d=\"M18.56 5.44l.94 2.06.94-2.06 2.06-.94-2.06-.94-.94-2.06-.94 2.06-2.06.94zm-11 1L8.5 8.5l.94-2.06 2.06-.94-2.06-.94L8.5 2.5l-.94 2.06-2.06.94zm10 10l.94 2.06.94-2.06 2.06-.94-2.06-.94-.94-2.06-.94 2.06-2.06.94z\"/><path d=\"M17.41 7.96l-1.37-1.37c-.4-.4-.92-.59-1.43-.59-.52 0-1.04.2-1.43.59L10.3 9.45l-7.72 7.72c-.78.78-.78 2.05 0 2.83L4 21.41c.39.39.9.59 1.41.59.51 0 1.02-.2 1.41-.59l7.78-7.78 2.81-2.81c.8-.78.8-2.07 0-2.86zM5.41 20L4 18.59l7.72-7.72 1.47 1.35L5.41 20z\"/>\n",
              "  </svg>\n",
              "      </button>\n",
              "      \n",
              "  <style>\n",
              "    .colab-df-container {\n",
              "      display:flex;\n",
              "      flex-wrap:wrap;\n",
              "      gap: 12px;\n",
              "    }\n",
              "\n",
              "    .colab-df-convert {\n",
              "      background-color: #E8F0FE;\n",
              "      border: none;\n",
              "      border-radius: 50%;\n",
              "      cursor: pointer;\n",
              "      display: none;\n",
              "      fill: #1967D2;\n",
              "      height: 32px;\n",
              "      padding: 0 0 0 0;\n",
              "      width: 32px;\n",
              "    }\n",
              "\n",
              "    .colab-df-convert:hover {\n",
              "      background-color: #E2EBFA;\n",
              "      box-shadow: 0px 1px 2px rgba(60, 64, 67, 0.3), 0px 1px 3px 1px rgba(60, 64, 67, 0.15);\n",
              "      fill: #174EA6;\n",
              "    }\n",
              "\n",
              "    [theme=dark] .colab-df-convert {\n",
              "      background-color: #3B4455;\n",
              "      fill: #D2E3FC;\n",
              "    }\n",
              "\n",
              "    [theme=dark] .colab-df-convert:hover {\n",
              "      background-color: #434B5C;\n",
              "      box-shadow: 0px 1px 3px 1px rgba(0, 0, 0, 0.15);\n",
              "      filter: drop-shadow(0px 1px 2px rgba(0, 0, 0, 0.3));\n",
              "      fill: #FFFFFF;\n",
              "    }\n",
              "  </style>\n",
              "\n",
              "      <script>\n",
              "        const buttonEl =\n",
              "          document.querySelector('#df-58e0c2fd-e4ff-4de4-8374-3df94b09f0e0 button.colab-df-convert');\n",
              "        buttonEl.style.display =\n",
              "          google.colab.kernel.accessAllowed ? 'block' : 'none';\n",
              "\n",
              "        async function convertToInteractive(key) {\n",
              "          const element = document.querySelector('#df-58e0c2fd-e4ff-4de4-8374-3df94b09f0e0');\n",
              "          const dataTable =\n",
              "            await google.colab.kernel.invokeFunction('convertToInteractive',\n",
              "                                                     [key], {});\n",
              "          if (!dataTable) return;\n",
              "\n",
              "          const docLinkHtml = 'Like what you see? Visit the ' +\n",
              "            '<a target=\"_blank\" href=https://colab.research.google.com/notebooks/data_table.ipynb>data table notebook</a>'\n",
              "            + ' to learn more about interactive tables.';\n",
              "          element.innerHTML = '';\n",
              "          dataTable['output_type'] = 'display_data';\n",
              "          await google.colab.output.renderOutput(dataTable, element);\n",
              "          const docLink = document.createElement('div');\n",
              "          docLink.innerHTML = docLinkHtml;\n",
              "          element.appendChild(docLink);\n",
              "        }\n",
              "      </script>\n",
              "    </div>\n",
              "  </div>\n",
              "  "
            ]
          },
          "metadata": {},
          "execution_count": 8
        }
      ]
    },
    {
      "cell_type": "code",
      "source": [
        "#Creating functions to retrive url for image search and download. The hourly limit is 500 requests\n",
        "\n",
        "image_serach_URL = \"https://pixabay.com/api/\"\n",
        "\n",
        "def getimageURL(word):\n",
        "  PARAMS = {'key':key, \"q\":word}\n",
        "  r = requests.get(url = image_serach_URL, params = PARAMS)\n",
        "  data = r.json()\n",
        "  try:\n",
        "    return data['hits'][0]['webformatURL']\n",
        "  except IndexError:\n",
        "    PARAMS = {'key':key, \"q\":str(random.randint(0, 99))}\n",
        "    r = requests.get(url = image_serach_URL, params = PARAMS)\n",
        "    data = r.json()\n",
        "    return data['hits'][0]['webformatURL']\n",
        "\n",
        "def download_image(url, filename): # Please pass word as word.mp3 or word.img\n",
        "  if Path(filename + \".jpg\").is_file():\n",
        "    full_file_name = filename + str(random.randint(0, 99)) + \".jpg\" #if the file exists then create a new one\n",
        "  else:\n",
        "    full_file_name = filename + \".jpg\"  # create a file name with english word\n",
        "  \n",
        "  with open(full_file_name, 'wb') as f:\n",
        "    file_data = requests.get(url)\n",
        "    file_data.raise_for_status()\n",
        "    f.write(file_data.content)\n",
        "  return full_file_name"
      ],
      "metadata": {
        "id": "C-Bd3DzrtXS6"
      },
      "execution_count": null,
      "outputs": []
    },
    {
      "cell_type": "code",
      "source": [
        "#################################################################### \n",
        "# I am lazy to get bing image search API. the Pixabay api has limited requests per hours\n",
        "#################################################################### \n",
        "\n",
        "# #downloading images\n",
        "# # path = Path.cwd() / 'image_files'\n",
        "# path = Path('/content/image_files')\n",
        "# path.mkdir(exist_ok=True)  #Creating subfolder for sound files\n",
        "# os.chdir(path) # changing the CWD\n",
        "\n",
        "# #creating empty column\n",
        "# df['Image_file_location'] = \"\"\n",
        "# df['Image_file_location_full_path'] = \"\"\n",
        "\n",
        "# for index, row in tqdm(df.iterrows()):\n",
        "#   img_url = getimageURL(row['English'])\n",
        "#   file_name = download_image(img_url, row['English'])\n",
        "#   row['Image_file_location'] = file_name\n",
        "#   row['Image_file_location_full_path'] = '/content/image_files/' + file_name"
      ],
      "metadata": {
        "id": "lRdPOPJ5_FYM"
      },
      "execution_count": null,
      "outputs": []
    },
    {
      "cell_type": "code",
      "source": [
        "df.head()"
      ],
      "metadata": {
        "colab": {
          "base_uri": "https://localhost:8080/",
          "height": 206
        },
        "id": "pZW6UnjwB7KH",
        "outputId": "135582a7-2c6a-44f8-8eed-adc11b5d56f8"
      },
      "execution_count": 9,
      "outputs": [
        {
          "output_type": "execute_result",
          "data": {
            "text/plain": [
              "   Tamil English      IPA\n",
              "1     என      as      Eṉa\n",
              "2   நான்       I      Nāṉ\n",
              "3  அவரது     his  Avaratu\n",
              "4  என்று    that     Eṉṟu\n",
              "5   அவர்      he     Avar"
            ],
            "text/html": [
              "\n",
              "  <div id=\"df-3925d990-3a74-40bf-abaa-8f028def2c75\">\n",
              "    <div class=\"colab-df-container\">\n",
              "      <div>\n",
              "<style scoped>\n",
              "    .dataframe tbody tr th:only-of-type {\n",
              "        vertical-align: middle;\n",
              "    }\n",
              "\n",
              "    .dataframe tbody tr th {\n",
              "        vertical-align: top;\n",
              "    }\n",
              "\n",
              "    .dataframe thead th {\n",
              "        text-align: right;\n",
              "    }\n",
              "</style>\n",
              "<table border=\"1\" class=\"dataframe\">\n",
              "  <thead>\n",
              "    <tr style=\"text-align: right;\">\n",
              "      <th></th>\n",
              "      <th>Tamil</th>\n",
              "      <th>English</th>\n",
              "      <th>IPA</th>\n",
              "    </tr>\n",
              "  </thead>\n",
              "  <tbody>\n",
              "    <tr>\n",
              "      <th>1</th>\n",
              "      <td>என</td>\n",
              "      <td>as</td>\n",
              "      <td>Eṉa</td>\n",
              "    </tr>\n",
              "    <tr>\n",
              "      <th>2</th>\n",
              "      <td>நான்</td>\n",
              "      <td>I</td>\n",
              "      <td>Nāṉ</td>\n",
              "    </tr>\n",
              "    <tr>\n",
              "      <th>3</th>\n",
              "      <td>அவரது</td>\n",
              "      <td>his</td>\n",
              "      <td>Avaratu</td>\n",
              "    </tr>\n",
              "    <tr>\n",
              "      <th>4</th>\n",
              "      <td>என்று</td>\n",
              "      <td>that</td>\n",
              "      <td>Eṉṟu</td>\n",
              "    </tr>\n",
              "    <tr>\n",
              "      <th>5</th>\n",
              "      <td>அவர்</td>\n",
              "      <td>he</td>\n",
              "      <td>Avar</td>\n",
              "    </tr>\n",
              "  </tbody>\n",
              "</table>\n",
              "</div>\n",
              "      <button class=\"colab-df-convert\" onclick=\"convertToInteractive('df-3925d990-3a74-40bf-abaa-8f028def2c75')\"\n",
              "              title=\"Convert this dataframe to an interactive table.\"\n",
              "              style=\"display:none;\">\n",
              "        \n",
              "  <svg xmlns=\"http://www.w3.org/2000/svg\" height=\"24px\"viewBox=\"0 0 24 24\"\n",
              "       width=\"24px\">\n",
              "    <path d=\"M0 0h24v24H0V0z\" fill=\"none\"/>\n",
              "    <path d=\"M18.56 5.44l.94 2.06.94-2.06 2.06-.94-2.06-.94-.94-2.06-.94 2.06-2.06.94zm-11 1L8.5 8.5l.94-2.06 2.06-.94-2.06-.94L8.5 2.5l-.94 2.06-2.06.94zm10 10l.94 2.06.94-2.06 2.06-.94-2.06-.94-.94-2.06-.94 2.06-2.06.94z\"/><path d=\"M17.41 7.96l-1.37-1.37c-.4-.4-.92-.59-1.43-.59-.52 0-1.04.2-1.43.59L10.3 9.45l-7.72 7.72c-.78.78-.78 2.05 0 2.83L4 21.41c.39.39.9.59 1.41.59.51 0 1.02-.2 1.41-.59l7.78-7.78 2.81-2.81c.8-.78.8-2.07 0-2.86zM5.41 20L4 18.59l7.72-7.72 1.47 1.35L5.41 20z\"/>\n",
              "  </svg>\n",
              "      </button>\n",
              "      \n",
              "  <style>\n",
              "    .colab-df-container {\n",
              "      display:flex;\n",
              "      flex-wrap:wrap;\n",
              "      gap: 12px;\n",
              "    }\n",
              "\n",
              "    .colab-df-convert {\n",
              "      background-color: #E8F0FE;\n",
              "      border: none;\n",
              "      border-radius: 50%;\n",
              "      cursor: pointer;\n",
              "      display: none;\n",
              "      fill: #1967D2;\n",
              "      height: 32px;\n",
              "      padding: 0 0 0 0;\n",
              "      width: 32px;\n",
              "    }\n",
              "\n",
              "    .colab-df-convert:hover {\n",
              "      background-color: #E2EBFA;\n",
              "      box-shadow: 0px 1px 2px rgba(60, 64, 67, 0.3), 0px 1px 3px 1px rgba(60, 64, 67, 0.15);\n",
              "      fill: #174EA6;\n",
              "    }\n",
              "\n",
              "    [theme=dark] .colab-df-convert {\n",
              "      background-color: #3B4455;\n",
              "      fill: #D2E3FC;\n",
              "    }\n",
              "\n",
              "    [theme=dark] .colab-df-convert:hover {\n",
              "      background-color: #434B5C;\n",
              "      box-shadow: 0px 1px 3px 1px rgba(0, 0, 0, 0.15);\n",
              "      filter: drop-shadow(0px 1px 2px rgba(0, 0, 0, 0.3));\n",
              "      fill: #FFFFFF;\n",
              "    }\n",
              "  </style>\n",
              "\n",
              "      <script>\n",
              "        const buttonEl =\n",
              "          document.querySelector('#df-3925d990-3a74-40bf-abaa-8f028def2c75 button.colab-df-convert');\n",
              "        buttonEl.style.display =\n",
              "          google.colab.kernel.accessAllowed ? 'block' : 'none';\n",
              "\n",
              "        async function convertToInteractive(key) {\n",
              "          const element = document.querySelector('#df-3925d990-3a74-40bf-abaa-8f028def2c75');\n",
              "          const dataTable =\n",
              "            await google.colab.kernel.invokeFunction('convertToInteractive',\n",
              "                                                     [key], {});\n",
              "          if (!dataTable) return;\n",
              "\n",
              "          const docLinkHtml = 'Like what you see? Visit the ' +\n",
              "            '<a target=\"_blank\" href=https://colab.research.google.com/notebooks/data_table.ipynb>data table notebook</a>'\n",
              "            + ' to learn more about interactive tables.';\n",
              "          element.innerHTML = '';\n",
              "          dataTable['output_type'] = 'display_data';\n",
              "          await google.colab.output.renderOutput(dataTable, element);\n",
              "          const docLink = document.createElement('div');\n",
              "          docLink.innerHTML = docLinkHtml;\n",
              "          element.appendChild(docLink);\n",
              "        }\n",
              "      </script>\n",
              "    </div>\n",
              "  </div>\n",
              "  "
            ]
          },
          "metadata": {},
          "execution_count": 9
        }
      ]
    },
    {
      "cell_type": "code",
      "source": [
        "#creating download mp3 function\n",
        "def download_mp3(word):\n",
        "  if Path(word + \".mp3\").is_file():\n",
        "    full_file_name = word + str(random.randint(0, 99)) + \".mp3\" #if the file exists then create a new one\n",
        "  else:\n",
        "    full_file_name = word + \".mp3\"  # create a file name with english word\n",
        "  \n",
        "  tts = gTTS(word, lang='ta')\n",
        "  tts.save(full_file_name)\n",
        "  return full_file_name"
      ],
      "metadata": {
        "id": "IWg-60BALo8S"
      },
      "execution_count": 10,
      "outputs": []
    },
    {
      "cell_type": "code",
      "source": [
        "#downloading mp3\n",
        "path = Path('/content/sound_files')\n",
        "path.mkdir(exist_ok=True)  #Creating subfolder for sound files\n",
        "os.chdir(path) # changing the CWD\n",
        "\n",
        "df['sound_file_location'] = \"\"\n",
        "df['sound_file_location_full_path'] = \"\"\n",
        "\n",
        "for index, row in tqdm(df.iterrows()):\n",
        "  file_name = download_mp3(row['Tamil'])\n",
        "  row['sound_file_location'] = file_name\n",
        "  row['sound_file_location_full_path'] = '/content/sound_files/' + file_name"
      ],
      "metadata": {
        "id": "5JEqbxTJNSyS",
        "colab": {
          "base_uri": "https://localhost:8080/"
        },
        "outputId": "dda73bd2-c133-4200-93e3-860d1c16fab4"
      },
      "execution_count": 11,
      "outputs": [
        {
          "output_type": "stream",
          "name": "stderr",
          "text": [
            "500it [01:13,  6.83it/s]\n"
          ]
        }
      ]
    },
    {
      "cell_type": "code",
      "source": [
        "df.head()"
      ],
      "metadata": {
        "colab": {
          "base_uri": "https://localhost:8080/",
          "height": 206
        },
        "id": "mqLc1rhYNcr5",
        "outputId": "25ad79fd-82b4-4731-fed8-009fd05aa5a0"
      },
      "execution_count": 12,
      "outputs": [
        {
          "output_type": "execute_result",
          "data": {
            "text/plain": [
              "   Tamil English      IPA sound_file_location   sound_file_location_full_path\n",
              "1     என      as      Eṉa              என.mp3     /content/sound_files/என.mp3\n",
              "2   நான்       I      Nāṉ            நான்.mp3   /content/sound_files/நான்.mp3\n",
              "3  அவரது     his  Avaratu           அவரது.mp3  /content/sound_files/அவரது.mp3\n",
              "4  என்று    that     Eṉṟu           என்று.mp3  /content/sound_files/என்று.mp3\n",
              "5   அவர்      he     Avar            அவர்.mp3   /content/sound_files/அவர்.mp3"
            ],
            "text/html": [
              "\n",
              "  <div id=\"df-0fcdda48-64be-4d59-bc97-4a9addf1f24c\">\n",
              "    <div class=\"colab-df-container\">\n",
              "      <div>\n",
              "<style scoped>\n",
              "    .dataframe tbody tr th:only-of-type {\n",
              "        vertical-align: middle;\n",
              "    }\n",
              "\n",
              "    .dataframe tbody tr th {\n",
              "        vertical-align: top;\n",
              "    }\n",
              "\n",
              "    .dataframe thead th {\n",
              "        text-align: right;\n",
              "    }\n",
              "</style>\n",
              "<table border=\"1\" class=\"dataframe\">\n",
              "  <thead>\n",
              "    <tr style=\"text-align: right;\">\n",
              "      <th></th>\n",
              "      <th>Tamil</th>\n",
              "      <th>English</th>\n",
              "      <th>IPA</th>\n",
              "      <th>sound_file_location</th>\n",
              "      <th>sound_file_location_full_path</th>\n",
              "    </tr>\n",
              "  </thead>\n",
              "  <tbody>\n",
              "    <tr>\n",
              "      <th>1</th>\n",
              "      <td>என</td>\n",
              "      <td>as</td>\n",
              "      <td>Eṉa</td>\n",
              "      <td>என.mp3</td>\n",
              "      <td>/content/sound_files/என.mp3</td>\n",
              "    </tr>\n",
              "    <tr>\n",
              "      <th>2</th>\n",
              "      <td>நான்</td>\n",
              "      <td>I</td>\n",
              "      <td>Nāṉ</td>\n",
              "      <td>நான்.mp3</td>\n",
              "      <td>/content/sound_files/நான்.mp3</td>\n",
              "    </tr>\n",
              "    <tr>\n",
              "      <th>3</th>\n",
              "      <td>அவரது</td>\n",
              "      <td>his</td>\n",
              "      <td>Avaratu</td>\n",
              "      <td>அவரது.mp3</td>\n",
              "      <td>/content/sound_files/அவரது.mp3</td>\n",
              "    </tr>\n",
              "    <tr>\n",
              "      <th>4</th>\n",
              "      <td>என்று</td>\n",
              "      <td>that</td>\n",
              "      <td>Eṉṟu</td>\n",
              "      <td>என்று.mp3</td>\n",
              "      <td>/content/sound_files/என்று.mp3</td>\n",
              "    </tr>\n",
              "    <tr>\n",
              "      <th>5</th>\n",
              "      <td>அவர்</td>\n",
              "      <td>he</td>\n",
              "      <td>Avar</td>\n",
              "      <td>அவர்.mp3</td>\n",
              "      <td>/content/sound_files/அவர்.mp3</td>\n",
              "    </tr>\n",
              "  </tbody>\n",
              "</table>\n",
              "</div>\n",
              "      <button class=\"colab-df-convert\" onclick=\"convertToInteractive('df-0fcdda48-64be-4d59-bc97-4a9addf1f24c')\"\n",
              "              title=\"Convert this dataframe to an interactive table.\"\n",
              "              style=\"display:none;\">\n",
              "        \n",
              "  <svg xmlns=\"http://www.w3.org/2000/svg\" height=\"24px\"viewBox=\"0 0 24 24\"\n",
              "       width=\"24px\">\n",
              "    <path d=\"M0 0h24v24H0V0z\" fill=\"none\"/>\n",
              "    <path d=\"M18.56 5.44l.94 2.06.94-2.06 2.06-.94-2.06-.94-.94-2.06-.94 2.06-2.06.94zm-11 1L8.5 8.5l.94-2.06 2.06-.94-2.06-.94L8.5 2.5l-.94 2.06-2.06.94zm10 10l.94 2.06.94-2.06 2.06-.94-2.06-.94-.94-2.06-.94 2.06-2.06.94z\"/><path d=\"M17.41 7.96l-1.37-1.37c-.4-.4-.92-.59-1.43-.59-.52 0-1.04.2-1.43.59L10.3 9.45l-7.72 7.72c-.78.78-.78 2.05 0 2.83L4 21.41c.39.39.9.59 1.41.59.51 0 1.02-.2 1.41-.59l7.78-7.78 2.81-2.81c.8-.78.8-2.07 0-2.86zM5.41 20L4 18.59l7.72-7.72 1.47 1.35L5.41 20z\"/>\n",
              "  </svg>\n",
              "      </button>\n",
              "      \n",
              "  <style>\n",
              "    .colab-df-container {\n",
              "      display:flex;\n",
              "      flex-wrap:wrap;\n",
              "      gap: 12px;\n",
              "    }\n",
              "\n",
              "    .colab-df-convert {\n",
              "      background-color: #E8F0FE;\n",
              "      border: none;\n",
              "      border-radius: 50%;\n",
              "      cursor: pointer;\n",
              "      display: none;\n",
              "      fill: #1967D2;\n",
              "      height: 32px;\n",
              "      padding: 0 0 0 0;\n",
              "      width: 32px;\n",
              "    }\n",
              "\n",
              "    .colab-df-convert:hover {\n",
              "      background-color: #E2EBFA;\n",
              "      box-shadow: 0px 1px 2px rgba(60, 64, 67, 0.3), 0px 1px 3px 1px rgba(60, 64, 67, 0.15);\n",
              "      fill: #174EA6;\n",
              "    }\n",
              "\n",
              "    [theme=dark] .colab-df-convert {\n",
              "      background-color: #3B4455;\n",
              "      fill: #D2E3FC;\n",
              "    }\n",
              "\n",
              "    [theme=dark] .colab-df-convert:hover {\n",
              "      background-color: #434B5C;\n",
              "      box-shadow: 0px 1px 3px 1px rgba(0, 0, 0, 0.15);\n",
              "      filter: drop-shadow(0px 1px 2px rgba(0, 0, 0, 0.3));\n",
              "      fill: #FFFFFF;\n",
              "    }\n",
              "  </style>\n",
              "\n",
              "      <script>\n",
              "        const buttonEl =\n",
              "          document.querySelector('#df-0fcdda48-64be-4d59-bc97-4a9addf1f24c button.colab-df-convert');\n",
              "        buttonEl.style.display =\n",
              "          google.colab.kernel.accessAllowed ? 'block' : 'none';\n",
              "\n",
              "        async function convertToInteractive(key) {\n",
              "          const element = document.querySelector('#df-0fcdda48-64be-4d59-bc97-4a9addf1f24c');\n",
              "          const dataTable =\n",
              "            await google.colab.kernel.invokeFunction('convertToInteractive',\n",
              "                                                     [key], {});\n",
              "          if (!dataTable) return;\n",
              "\n",
              "          const docLinkHtml = 'Like what you see? Visit the ' +\n",
              "            '<a target=\"_blank\" href=https://colab.research.google.com/notebooks/data_table.ipynb>data table notebook</a>'\n",
              "            + ' to learn more about interactive tables.';\n",
              "          element.innerHTML = '';\n",
              "          dataTable['output_type'] = 'display_data';\n",
              "          await google.colab.output.renderOutput(dataTable, element);\n",
              "          const docLink = document.createElement('div');\n",
              "          docLink.innerHTML = docLinkHtml;\n",
              "          element.appendChild(docLink);\n",
              "        }\n",
              "      </script>\n",
              "    </div>\n",
              "  </div>\n",
              "  "
            ]
          },
          "metadata": {},
          "execution_count": 12
        }
      ]
    },
    {
      "cell_type": "code",
      "source": [
        "#Creating unique Ids for genanki (should also be saved)\n",
        "path = Path('/content')\n",
        "os.chdir(path) # changing the CWD\n",
        "\n",
        "def create_id():\n",
        "    return random.randrange(1 << 30, 1 << 31)\n",
        "\n",
        "genanki_id_yaml = \"genanki_ids.yaml\"\n",
        "\n",
        "if not Path(genanki_id_yaml).is_file():\n",
        "    with open(genanki_id_yaml, 'wt') as f:\n",
        "        f.write('deck_id: ' + str(create_id()) + '\\n') \n",
        "        f.write('model_id: ' + str(create_id()) + '\\n') \n",
        "# load IDs\n",
        "ids = {}\n",
        "with open(genanki_id_yaml, 'r') as stream:\n",
        "    try:\n",
        "        ids = yaml.load(stream)\n",
        "    except yaml.YAMLError as exc:\n",
        "        print(exc)"
      ],
      "metadata": {
        "id": "8gf6MHMUCUbS"
      },
      "execution_count": 13,
      "outputs": []
    },
    {
      "cell_type": "code",
      "source": [
        "# Create Anki model\n",
        "my_model = genanki.Model(\n",
        "  int(ids['model_id']),\n",
        "  'Tamil (Genaki)',\n",
        "  fields=[\n",
        "    {'name': 'Tamil'},\n",
        "    {'name': 'English'},\n",
        "    {'name': 'IPA'},\n",
        "    {'name': 'Audio'},\n",
        "    # {'name': 'Picture'},\n",
        "  ],\n",
        "  templates=[\n",
        "    # {\n",
        "    #   'name': 'Tamil2English',\n",
        "    #   'qfmt': \"<div style='font-family: Arial; font-size: 20px;'>{{Tamil}}</div>\",\n",
        "    #   'afmt': dedent(\"\"\"\\\n",
        "    #             <div style='font-family: Arial; font-size: 20px;'>{{English}}</div>\n",
        "    #             <div style='font-family: Arial; font-size: 20px;'>{{Tamil}}</div>\n",
        "    #             <div style='font-family: Arial; font-size: 20px;'>{{Audio}}</div>\n",
        "    #             <div style='font-family: Arial; font-size: 20px;'>{{IPA}}</div>\n",
        "    #             <div style='font-family: Arial; font-size: 20px;'>{{Picture}}</div>\n",
        "    #             \"\"\"),\n",
        "    # },\n",
        "    {\n",
        "      'name': 'Tamil2English',\n",
        "      'qfmt': \"<div style='font-family: Arial; font-size: 20px;'>{{Tamil}}</div>\",\n",
        "      'afmt': dedent(\"\"\"\\\n",
        "                <div style='font-family: Arial; font-size: 20px;'>{{English}}</div>\n",
        "                <div style='font-family: Arial; font-size: 20px;'>{{Tamil}}</div>\n",
        "                <div style='font-family: Arial; font-size: 20px;'>{{Audio}}</div>\n",
        "                <div style='font-family: Arial; font-size: 20px;'>{{IPA}}</div>\n",
        "                \"\"\"),\n",
        "    },\n",
        "\n",
        "    # {\n",
        "    #   'name': 'English2Tamil',\n",
        "    #   'qfmt': \"<div style='font-family: Arial; font-size: 20px;'>{{English}}</div>\",\n",
        "    #   'afmt': dedent(\"\"\"\\\n",
        "    #             <div style='font-family: Arial; font-size: 20px;'>{{English}}</div>\n",
        "    #             <div style='font-family: Arial; font-size: 20px;'>{{Tamil}}</div>\n",
        "    #             <div style='font-family: Arial; font-size: 20px;'>{{Audio}}</div>\n",
        "    #             <div style='font-family: Arial; font-size: 20px;'>{{IPA}}</div>\n",
        "    #             <div style='font-family: Arial; font-size: 20px;'>{{Picture}}</div>\n",
        "    #             \"\"\"),\n",
        "    # },\n",
        "\n",
        "    {\n",
        "      'name': 'English2Tamil',\n",
        "      'qfmt': \"<div style='font-family: Arial; font-size: 20px;'>{{English}}</div>\",\n",
        "      'afmt': dedent(\"\"\"\\\n",
        "                <div style='font-family: Arial; font-size: 20px;'>{{English}}</div>\n",
        "                <div style='font-family: Arial; font-size: 20px;'>{{Tamil}}</div>\n",
        "                <div style='font-family: Arial; font-size: 20px;'>{{Audio}}</div>\n",
        "                <div style='font-family: Arial; font-size: 20px;'>{{IPA}}</div>\n",
        "                \"\"\"),\n",
        "    },\n",
        "  ],\n",
        "css=\"\"\".card {\n",
        " font-family: arial;\n",
        " font-size: 20px;\n",
        " text-align: center;\n",
        " color: black;\n",
        " background-color: white;\n",
        "}\"\"\"\n",
        ")"
      ],
      "metadata": {
        "id": "78eT4ExWJnQm"
      },
      "execution_count": 14,
      "outputs": []
    },
    {
      "cell_type": "code",
      "source": [
        "# create notes for each result \n",
        "my_notes = []\n",
        "for index, row in tqdm(df.iterrows()):\n",
        "  my_note = genanki.Note(\n",
        "      model=my_model,\n",
        "      fields=[\n",
        "              row['Tamil'],\n",
        "              row['English'],\n",
        "              row['IPA'],\n",
        "              # '<img src=\"{}\">'.format(row['Image_file_location']),\n",
        "               \"[sound:{}]\".format(row['sound_file_location']), #[sound:sound.mp3] format for anki decks\n",
        "      ])\n",
        "  my_notes.append(my_note)"
      ],
      "metadata": {
        "id": "m_QkrsXr5_2H",
        "colab": {
          "base_uri": "https://localhost:8080/"
        },
        "outputId": "efebf8da-9f6b-4940-9a8a-eecc0f4cb9cb"
      },
      "execution_count": 20,
      "outputs": [
        {
          "output_type": "stream",
          "name": "stderr",
          "text": [
            "500it [00:00, 12418.44it/s]\n"
          ]
        }
      ]
    },
    {
      "cell_type": "code",
      "source": [
        "# create deck and add notes\n",
        "my_deck = genanki.Deck(\n",
        "  int(ids['deck_id']),\n",
        "  'Tamil-genanki')\n",
        "\n",
        "for note in my_notes:\n",
        "    my_deck.add_note(note)"
      ],
      "metadata": {
        "id": "Vg_7Hgfs7rua"
      },
      "execution_count": 16,
      "outputs": []
    },
    {
      "cell_type": "code",
      "source": [
        "# media = df['Image_file_location_full_path'].tolist()\n",
        "# media.extend(df['sound_file_location_full_path'].tolist())\n",
        "media = df['sound_file_location_full_path'].tolist()\n",
        "media[:10]"
      ],
      "metadata": {
        "colab": {
          "base_uri": "https://localhost:8080/"
        },
        "id": "qF3oRoRb77sp",
        "outputId": "c16d591d-688a-4fe7-bde0-04130fd088e5"
      },
      "execution_count": 17,
      "outputs": [
        {
          "output_type": "execute_result",
          "data": {
            "text/plain": [
              "['/content/sound_files/என.mp3',\n",
              " '/content/sound_files/நான்.mp3',\n",
              " '/content/sound_files/அவரது.mp3',\n",
              " '/content/sound_files/என்று.mp3',\n",
              " '/content/sound_files/அவர்.mp3',\n",
              " '/content/sound_files/இருந்தது.mp3',\n",
              " '/content/sound_files/ஐந்து.mp3',\n",
              " '/content/sound_files/ம்.mp3',\n",
              " '/content/sound_files/உள்ளன.mp3',\n",
              " '/content/sound_files/உடன்.mp3']"
            ]
          },
          "metadata": {},
          "execution_count": 17
        }
      ]
    },
    {
      "cell_type": "code",
      "source": [
        "my_package = genanki.Package(my_deck)\n",
        "my_package.media_files = media"
      ],
      "metadata": {
        "id": "2gM3akIU8Zyp"
      },
      "execution_count": 18,
      "outputs": []
    },
    {
      "cell_type": "code",
      "source": [
        "my_package.write_to_file('output.apkg')"
      ],
      "metadata": {
        "id": "CVjaxQHW8fxP"
      },
      "execution_count": 19,
      "outputs": []
    }
  ]
}